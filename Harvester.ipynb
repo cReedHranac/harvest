{
 "metadata": {
  "name": "",
  "signature": "sha256:b5f6ba3077dfc88085b6ec4ea0db9d86d4acd12ee51837e5ad4571dbd8c96a0d"
 },
 "nbformat": 3,
 "nbformat_minor": 0,
 "worksheets": [
  {
   "cells": [
    {
     "cell_type": "markdown",
     "metadata": {},
     "source": [
      "Harvest: an NCBI API"
     ]
    },
    {
     "cell_type": "code",
     "collapsed": false,
     "input": [
      "import Bio\n",
      "from Bio import SeqIO\n",
      "from Bio import Entrez"
     ],
     "language": "python",
     "metadata": {},
     "outputs": [],
     "prompt_number": 2
    },
    {
     "cell_type": "markdown",
     "metadata": {},
     "source": [
      "First thing is to identifiy yourself, and what your seach query is"
     ]
    },
    {
     "cell_type": "code",
     "collapsed": false,
     "input": [
      "email = \"crh244@nau.edu\"\n",
      "#Search term should be in the format of \"Organism * modifier\"\n",
      "    #If there is a modifier like in the example below, there needs to be a boolean operator within the term\n",
      "term = \"Sin Nombre Virus AND S segment\"\n",
      "print term"
     ],
     "language": "python",
     "metadata": {},
     "outputs": [
      {
       "output_type": "stream",
       "stream": "stdout",
       "text": [
        "Sin Nombre Virus AND S segment\n"
       ]
      }
     ],
     "prompt_number": 10
    },
    {
     "cell_type": "markdown",
     "metadata": {},
     "source": [
      "The block below is designed to identify yourself and the tool that you are using to the NCBI host."
     ]
    },
    {
     "cell_type": "code",
     "collapsed": false,
     "input": [
      "Entrez.email = email \n",
      "Entrez.tool = \"harvest.ipyn\""
     ],
     "language": "python",
     "metadata": {},
     "outputs": [],
     "prompt_number": 11
    },
    {
     "cell_type": "markdown",
     "metadata": {},
     "source": [
      "Now we begin to search through the NCBI databases with our seach term. \n",
      "This output gives you the count of the number of times that the search term shows up in the respective databases."
     ]
    },
    {
     "cell_type": "code",
     "collapsed": false,
     "input": [
      "handle = Entrez.egquery(term=term)\n",
      "record = Entrez.read(handle)\n",
      "for row in record[\"eGQueryResult\"]:\n",
      "     print(row[\"DbName\"], row[\"Count\"])"
     ],
     "language": "python",
     "metadata": {},
     "outputs": [
      {
       "output_type": "stream",
       "stream": "stdout",
       "text": [
        "('pubmed', '26')\n",
        "('pmc', '343')\n",
        "('mesh', '0')\n",
        "('books', '1')\n",
        "('pubmedhealth', '0')\n",
        "('omim', '0')\n",
        "('ncbisearch', '0')\n",
        "('nuccore', '59')\n",
        "('nucgss', '0')\n",
        "('nucest', '0')\n",
        "('protein', '44')\n",
        "('genome', '0')\n",
        "('structure', '0')\n",
        "('taxonomy', '0')\n",
        "('snp', '0')\n",
        "('dbvar', '32')\n",
        "('epigenomics', '0')\n",
        "('gene', '2')\n",
        "('sra', '0')\n",
        "('biosystems', '0')\n",
        "('unigene', '0')\n",
        "('cdd', '0')\n",
        "('clone', '0')\n",
        "('popset', '1')\n",
        "('geoprofiles', '0')\n",
        "('gds', '0')\n",
        "('homologene', '0')\n",
        "('pccompound', '0')\n",
        "('pcsubstance', '0')\n",
        "('pcassay', '0')\n",
        "('nlmcatalog', '0')\n",
        "('probe', '0')\n",
        "('gap', '1')\n",
        "('proteinclusters', '0')\n",
        "('bioproject', '0')\n",
        "('biosample', '0')\n"
       ]
      }
     ],
     "prompt_number": 12
    },
    {
     "cell_type": "markdown",
     "metadata": {},
     "source": [
      "We can also use this program to provied spelling suggestions, or in this case suggestions for terms that will have more results"
     ]
    },
    {
     "cell_type": "code",
     "collapsed": false,
     "input": [
      "for row in record[\"eGQueryResult\"]:\n",
      "     if row[\"DbName\"]==\"ncbisearch\" and row[\"Count\"]==\"0\":\n",
      "            handle = Entrez.espell(term= organism)\n",
      "            record = Entrez.read(handle)\n",
      "            record[\"Query\"]\n",
      "            print(record[\"CorrectedQuery\"])"
     ],
     "language": "python",
     "metadata": {},
     "outputs": [
      {
       "output_type": "stream",
       "stream": "stdout",
       "text": [
        "sin nombre virus\n"
       ]
      }
     ],
     "prompt_number": 9
    },
    {
     "cell_type": "markdown",
     "metadata": {},
     "source": [
      "This next block is generating a \"Retmax\" so that all, the records can be accessed without regard to the number of occurances in the dataset \n",
      "##Needs work -- how is that an invalid index?"
     ]
    },
    {
     "cell_type": "code",
     "collapsed": false,
     "input": [
      "for row in record[\"eGQueryResult\"]:\n",
      "    if row[\"DbName\"]==\"nuccore\":\n",
      "        print row[\"Count\"]\n",
      "#print retmax\n",
      "\n"
     ],
     "language": "python",
     "metadata": {},
     "outputs": [
      {
       "ename": "ValueError",
       "evalue": "Invalid index",
       "output_type": "pyerr",
       "traceback": [
        "\u001b[0;31m---------------------------------------------------------------------------\u001b[0m\n\u001b[0;31mValueError\u001b[0m                                Traceback (most recent call last)",
        "\u001b[0;32m<ipython-input-63-5fd81a7e0cf8>\u001b[0m in \u001b[0;36m<module>\u001b[0;34m()\u001b[0m\n\u001b[0;32m----> 1\u001b[0;31m \u001b[0;32mfor\u001b[0m \u001b[0mrow\u001b[0m \u001b[0;32min\u001b[0m \u001b[0mrecord\u001b[0m\u001b[0;34m[\u001b[0m\u001b[0;34m\"eGQueryResult\"\u001b[0m\u001b[0;34m]\u001b[0m\u001b[0;34m:\u001b[0m\u001b[0;34m\u001b[0m\u001b[0m\n\u001b[0m\u001b[1;32m      2\u001b[0m     \u001b[0;32mif\u001b[0m \u001b[0mrow\u001b[0m\u001b[0;34m[\u001b[0m\u001b[0;34m\"DbName\"\u001b[0m\u001b[0;34m]\u001b[0m\u001b[0;34m==\u001b[0m\u001b[0;34m\"nuccore\"\u001b[0m\u001b[0;34m:\u001b[0m\u001b[0;34m\u001b[0m\u001b[0m\n\u001b[1;32m      3\u001b[0m         \u001b[0;32mprint\u001b[0m \u001b[0mrow\u001b[0m\u001b[0;34m[\u001b[0m\u001b[0;34m\"Count\"\u001b[0m\u001b[0;34m]\u001b[0m\u001b[0;34m\u001b[0m\u001b[0m\n\u001b[1;32m      4\u001b[0m \u001b[0;31m#print retmax\u001b[0m\u001b[0;34m\u001b[0m\u001b[0;34m\u001b[0m\u001b[0m\n\u001b[1;32m      5\u001b[0m \u001b[0;34m\u001b[0m\u001b[0m\n",
        "\u001b[0;32m/Users/creedhranac/Scripts/Envs/pandas/lib/python2.7/site-packages/Bio/SeqRecord.pyc\u001b[0m in \u001b[0;36m__getitem__\u001b[0;34m(self, index)\u001b[0m\n\u001b[1;32m    464\u001b[0m \u001b[0;34m\u001b[0m\u001b[0m\n\u001b[1;32m    465\u001b[0m             \u001b[0;32mreturn\u001b[0m \u001b[0manswer\u001b[0m\u001b[0;34m\u001b[0m\u001b[0m\n\u001b[0;32m--> 466\u001b[0;31m         \u001b[0;32mraise\u001b[0m \u001b[0mValueError\u001b[0m\u001b[0;34m(\u001b[0m\u001b[0;34m\"Invalid index\"\u001b[0m\u001b[0;34m)\u001b[0m\u001b[0;34m\u001b[0m\u001b[0m\n\u001b[0m\u001b[1;32m    467\u001b[0m \u001b[0;34m\u001b[0m\u001b[0m\n\u001b[1;32m    468\u001b[0m     \u001b[0;32mdef\u001b[0m \u001b[0m__iter__\u001b[0m\u001b[0;34m(\u001b[0m\u001b[0mself\u001b[0m\u001b[0;34m)\u001b[0m\u001b[0;34m:\u001b[0m\u001b[0;34m\u001b[0m\u001b[0m\n",
        "\u001b[0;31mValueError\u001b[0m: Invalid index"
       ]
      }
     ],
     "prompt_number": 63
    },
    {
     "cell_type": "markdown",
     "metadata": {},
     "source": [
      "The next block retrieves all of the IDs for the records within the specified database for the search term."
     ]
    },
    {
     "cell_type": "code",
     "collapsed": false,
     "input": [
      "handle = Entrez.esearch(db=\"nuccore\", term=term, retmax=85) \n",
      "record = Entrez.read(handle)"
     ],
     "language": "python",
     "metadata": {},
     "outputs": []
    },
    {
     "cell_type": "markdown",
     "metadata": {},
     "source": [
      "A list of all the records found is generated, and prepaired for the retrieval step. \n",
      "This also gives you a check to make sure that the number of occurances in the list matches the records in the dataset. "
     ]
    },
    {
     "cell_type": "code",
     "collapsed": false,
     "input": [
      "id_list = record[\"IdList\"]\n",
      "print len(id_list)\n",
      "id_srt = \",\".join(id_list)"
     ],
     "language": "python",
     "metadata": {},
     "outputs": [
      {
       "output_type": "stream",
       "stream": "stdout",
       "text": [
        "59\n"
       ]
      }
     ],
     "prompt_number": 15
    },
    {
     "cell_type": "markdown",
     "metadata": {},
     "source": [
      "Now we take that list of IDs and use to to retrieve the records from the database. \n",
      "This also gives you a summary of the accession numbers used, the length of the sequence, and the number of features. "
     ]
    },
    {
     "cell_type": "code",
     "collapsed": false,
     "input": [
      "handle = Entrez.efetch(db=\"nuccore\", id=id_list, rettype=\"gb\", retmode=\"text\")\n",
      "records = SeqIO.parse(handle, \"gb\")\n",
      "for record in records: \n",
      "    print(\"%s, length %i, with %i features\" \\\n",
      "           % (record.name, len(record), len(record.features)))\n",
      "#text = handle.read()\n",
      "#print text\n"
     ],
     "language": "python",
     "metadata": {},
     "outputs": [
      {
       "output_type": "stream",
       "stream": "stdout",
       "text": [
        "KF537006, length 1589, with 2 features\n",
        "KF537003, length 1589, with 2 features"
       ]
      },
      {
       "output_type": "stream",
       "stream": "stdout",
       "text": [
        "\n",
        "JQ690282, length 2035, with 2 features\n",
        "JQ690281, length 2013, with 2 features\n",
        "JQ690284, length 3652, with 2 features\n",
        "JQ690283, length 3652, with 2 features"
       ]
      },
      {
       "output_type": "stream",
       "stream": "stdout",
       "text": [
        "\n",
        "JQ690278, length 1954, with 2 features\n",
        "JQ690277, length 2034, with 2 features\n",
        "JQ690276, length 1992, with 2 features\n",
        "NC_005216, length 2059, with 5 features\n",
        "JN097476, length 545, with 2 features"
       ]
      },
      {
       "output_type": "stream",
       "stream": "stdout",
       "text": [
        "\n",
        "JN097470, length 545, with 2 features\n",
        "JN097467, length 545, with 2 features\n",
        "JN097463, length 545, with 2 features\n",
        "JN097462, length 545, with 2 features\n",
        "SNU54583, length 397, with 3 features\n",
        "SNU54582, length 397, with 3 features\n",
        "FCU12136, length 418, with 2 features\n",
        "HPSG2PROT, length 139, with 2 features\n",
        "HVU45022, length 169, with 2 features\n",
        "HVU45021, length 169, with 2 features\n",
        "HVU45020, length 169, with 2 features\n",
        "HVU45019, length 169, with 2 features\n",
        "HVU45018, length 169, with 2 features\n",
        "HVU45017, length 169, with 2 features\n",
        "HVU45016, length 169, with 2 features\n",
        "HVU45015, length 169, with 2 features\n",
        "HVU45014, length 169, with 2 features\n",
        "FCU17103, length 424, with 2 features\n",
        "FCU17102, length 423, with 2 features"
       ]
      },
      {
       "output_type": "stream",
       "stream": "stdout",
       "text": [
        "\n",
        "FCU09308, length 194, with 2 features\n",
        "FCU09489, length 418, with 2 features\n",
        "FCU09487, length 194, with 2 features\n",
        "FCU09486, length 194, with 2 features\n",
        "SNU33263, length 169, with 2 features\n",
        "SNU33259, length 169, with 2 features\n",
        "SNU33243, length 169, with 2 features\n",
        "SNU33237, length 169, with 2 features\n",
        "SNU33235, length 169, with 2 features\n",
        "SNU33232, length 169, with 2 features\n",
        "SNU33228, length 169, with 2 features\n",
        "SNU33220, length 169, with 2 features\n",
        "FCU11436, length 418, with 2 features\n",
        "FCU11435, length 418, with 2 features\n",
        "FCU11434, length 418, with 2 features\n",
        "FCU11433, length 418, with 2 features\n",
        "FCU11432, length 418, with 2 features\n",
        "FCU11431, length 418, with 2 features\n",
        "U02474, length 1074, with 2 features\n",
        "HPSSSEG, length 2059, with 2 features\n",
        "HPSNUPR, length 2060, with 2 features\n",
        "AF281851, length 1960, with 2 features\n",
        "AF281850, length 1620, with 2 features"
       ]
      },
      {
       "output_type": "stream",
       "stream": "stdout",
       "text": [
        "\n",
        "HPSCC107MS, length 3696, with 3 features\n",
        "HPSCC74SS, length 2047, with 2 features\n",
        "HPSCC107SS, length 2083, with 2 features\n",
        "HPSCC74MS, length 3696, with 3 features\n",
        "HPSCC74LS, length 418, with 1 features\n",
        "HPSCC107LS, length 620, with 1 features\n"
       ]
      }
     ],
     "prompt_number": 51
    },
    {
     "cell_type": "code",
     "collapsed": false,
     "input": [
      "SeqIO.write(records, \"Harvesttest.gbk\", \"gb\")"
     ],
     "language": "python",
     "metadata": {},
     "outputs": [
      {
       "metadata": {},
       "output_type": "pyout",
       "prompt_number": 43,
       "text": [
        "0"
       ]
      }
     ],
     "prompt_number": 43
    },
    {
     "cell_type": "code",
     "collapsed": false,
     "input": [
      "org_dict = SeqIO.to_dict(records)"
     ],
     "language": "python",
     "metadata": {},
     "outputs": [],
     "prompt_number": 55
    },
    {
     "cell_type": "code",
     "collapsed": false,
     "input": [],
     "language": "python",
     "metadata": {},
     "outputs": []
    }
   ],
   "metadata": {}
  }
 ]
}